{
 "cells": [
  {
   "cell_type": "code",
   "execution_count": 167,
   "metadata": {},
   "outputs": [],
   "source": [
    "import requests\n",
    "from dotenv import load_dotenv\n",
    "import os\n",
    "import pandas as pd\n",
    "from concurrent.futures import ThreadPoolExecutor\n",
    "from tqdm import tqdm\n"
   ]
  },
  {
   "cell_type": "code",
   "execution_count": 128,
   "metadata": {},
   "outputs": [],
   "source": [
    "# Load environment variables from the .env file\n",
    "load_dotenv()\n",
    "\n",
    "# Get the API token and database ID from environment variables\n",
    "NOTION_API_TOKEN = os.getenv(\"NOTION_API_TOKEN\")\n",
    "NOTION_DATABASE_ID_DASHBOARD = os.getenv(\"NOTION_DATABASE_ID_DASHBOARD\")\n",
    "NOTION_DATABASE_ID_REF = os.getenv(\"NOTION_DATABASE_ID_REF\")\n",
    "\n",
    "# Set up the headers for the API request\n",
    "headers = {\n",
    "    \"Authorization\": f\"Bearer {NOTION_API_TOKEN}\",\n",
    "    \"Notion-Version\": \"2021-08-16\",\n",
    "    \"Content-Type\": \"application/json\",\n",
    "}"
   ]
  },
  {
   "cell_type": "code",
   "execution_count": 182,
   "metadata": {},
   "outputs": [],
   "source": [
    "class NotionAPI:\n",
    "    def __init__(self, NOTION_API_TOKEN, NOTION_DATABASE_ID_DASHBOARD, NOTION_DATABASE_ID_REF):\n",
    "        self.NOTION_API_TOKEN = NOTION_API_TOKEN\n",
    "        self.NOTION_DATABASE_ID_DASHBOARD = NOTION_DATABASE_ID_DASHBOARD\n",
    "        self.NOTION_DATABASE_ID_REF = NOTION_DATABASE_ID_REF\n",
    "        self.headers = {\n",
    "            \"Notion-Version\": \"2022-06-28\",\n",
    "            \"Accept\": \"application/json\",\n",
    "            \"Content-Type\": \"application/json\",\n",
    "            \"Authorization\": f\"Bearer {NOTION_API_TOKEN}\",\n",
    "        }\n",
    "        self._get_ref_df()\n",
    "        self._get_dashboard_df()\n",
    "\n",
    "        \n",
    "    def _get_ref_df(self):\n",
    "        self.ref_df = self.get_df(self.NOTION_DATABASE_ID_REF)\n",
    "        self.ref_df['activity'] = self.ref_df['properties.Productions.title'].apply(lambda t: t[0]['text']['content'])\n",
    "        self.ref_df = self.ref_df[['id','activity','properties.P_PC.select.name','properties.difficulty1-5.number']]\n",
    "        print('ref_df loaded')\n",
    "        \n",
    "    def _get_dashboard_df(self):\n",
    "        self.dashboard_df = self.get_df(self.NOTION_DATABASE_ID_DASHBOARD)\n",
    "        self.dashboard_df['created_time'] = pd.to_datetime(self.dashboard_df['created_time'])\n",
    "        print('dashboard loaded')\n",
    "\n",
    "    def get_df(self,NOTION_DATABASE_ID):\n",
    "        payload = {}\n",
    "\n",
    "        response = requests.post(\n",
    "            f\"https://api.notion.com/v1/databases/{NOTION_DATABASE_ID}/query\",\n",
    "            headers=self.headers,\n",
    "            json=payload,\n",
    "        )\n",
    "\n",
    "        if response.status_code == 200:\n",
    "            data = response.json()\n",
    "            result_df = pd.json_normalize(data['results'])\n",
    "            return result_df\n",
    "        else:\n",
    "            print(f\"Failed to retrieve data. Status code: {response.status_code}\")\n",
    "            print(response.text)\n",
    "            return None\n",
    "\n",
    "    def get_page_data(self, page_id):\n",
    "        response = requests.get(f\"https://api.notion.com/v1/blocks/{page_id}/children\", headers=self.headers)\n",
    "\n",
    "        if response.status_code == 200:\n",
    "            page_data = response.json()\n",
    "            return page_data\n",
    "        else:\n",
    "            print(f\"Failed to retrieve page data. Status code: {response.status_code}\")\n",
    "            print(response.text)\n",
    "            return None\n",
    "        \n",
    "    def _get_daily_check(self,page_id,created_time):\n",
    "        try:\n",
    "            blocks = self.get_page_data(page_id)['results']\n",
    "            daily_check = self.get_df(blocks[0]['id'])\n",
    "            daily_check['created_time'] = created_time \n",
    "            daily_check['ref_id'] = daily_check['properties.Activity.relation'].apply(lambda x: x[0]['id'])\n",
    "            return daily_check[['created_time','ref_id','properties.Yes.checkbox']]\n",
    "        except Exception as e:\n",
    "            print(e)\n",
    "            return pd.DataFrame()\n",
    "    \n",
    "    def get_daily_checks(self, ids, created_times, workers=4):\n",
    "        with ThreadPoolExecutor(max_workers=workers) as executor:\n",
    "            results = list(tqdm(executor.map(self._get_daily_check, ids, created_times), total=len(ids)))\n",
    "        return results\n",
    "\n",
    "    def get_everything(self, workers=5):\n",
    "        daily_checks = self.get_daily_checks(self.dashboard_df.id, self.dashboard_df.created_time, workers=workers)\n",
    "        df_daily_checks =  pd.concat(daily_checks) \n",
    "        df_daily_checks = df_daily_checks.merge(\n",
    "                        self.ref_df,\n",
    "                        left_on=['ref_id'],\n",
    "                        right_on=['id'] \n",
    "                    )\n",
    "        return df_daily_checks\n",
    "    "
   ]
  },
  {
   "cell_type": "code",
   "execution_count": 183,
   "metadata": {},
   "outputs": [
    {
     "name": "stdout",
     "output_type": "stream",
     "text": [
      "ref_df loaded\n",
      "dashboard loaded\n"
     ]
    }
   ],
   "source": [
    "notion_api = NotionAPI(NOTION_API_TOKEN, NOTION_DATABASE_ID_DASHBOARD, NOTION_DATABASE_ID_REF)"
   ]
  },
  {
   "cell_type": "code",
   "execution_count": 184,
   "metadata": {},
   "outputs": [
    {
     "name": "stderr",
     "output_type": "stream",
     "text": [
      "  0%|          | 0/56 [00:00<?, ?it/s]"
     ]
    },
    {
     "name": "stderr",
     "output_type": "stream",
     "text": [
      "  2%|▏         | 1/56 [00:00<00:29,  1.86it/s]"
     ]
    },
    {
     "name": "stdout",
     "output_type": "stream",
     "text": [
      "Failed to retrieve data. Status code: 404\n",
      "{\"object\":\"error\",\"status\":404,\"code\":\"object_not_found\",\"message\":\"Could not find database with ID: 4cc78746-d4a7-477c-854f-66c381cdbe12. Make sure the relevant pages and databases are shared with your integration.\"}\n",
      "'NoneType' object does not support item assignment\n",
      "Failed to retrieve data. Status code: 404\n",
      "{\"object\":\"error\",\"status\":404,\"code\":\"object_not_found\",\"message\":\"Could not find database with ID: f5a40925-cbab-4515-b468-af14d134b86b. Make sure the relevant pages and databases are shared with your integration.\"}\n",
      "'NoneType' object does not support item assignment\n"
     ]
    },
    {
     "name": "stderr",
     "output_type": "stream",
     "text": [
      "100%|██████████| 56/56 [00:16<00:00,  3.36it/s]\n"
     ]
    }
   ],
   "source": [
    "df_all = notion_api.get_everything(10)"
   ]
  },
  {
   "cell_type": "markdown",
   "metadata": {},
   "source": [
    "# Analysis"
   ]
  },
  {
   "cell_type": "code",
   "execution_count": 187,
   "metadata": {},
   "outputs": [
    {
     "data": {
      "text/html": [
       "<div>\n",
       "<style scoped>\n",
       "    .dataframe tbody tr th:only-of-type {\n",
       "        vertical-align: middle;\n",
       "    }\n",
       "\n",
       "    .dataframe tbody tr th {\n",
       "        vertical-align: top;\n",
       "    }\n",
       "\n",
       "    .dataframe thead th {\n",
       "        text-align: right;\n",
       "    }\n",
       "</style>\n",
       "<table border=\"1\" class=\"dataframe\">\n",
       "  <thead>\n",
       "    <tr style=\"text-align: right;\">\n",
       "      <th></th>\n",
       "      <th>created_time</th>\n",
       "      <th>ref_id</th>\n",
       "      <th>properties.Yes.checkbox</th>\n",
       "      <th>id</th>\n",
       "      <th>activity</th>\n",
       "      <th>properties.P_PC.select.name</th>\n",
       "      <th>properties.difficulty1-5.number</th>\n",
       "    </tr>\n",
       "  </thead>\n",
       "  <tbody>\n",
       "    <tr>\n",
       "      <th>0</th>\n",
       "      <td>2023-09-17 11:00:00+00:00</td>\n",
       "      <td>29fcaf58-1b6b-4650-8229-ec43e791bf33</td>\n",
       "      <td>False</td>\n",
       "      <td>29fcaf58-1b6b-4650-8229-ec43e791bf33</td>\n",
       "      <td>DO: Reading</td>\n",
       "      <td>Production_Capacity</td>\n",
       "      <td>3</td>\n",
       "    </tr>\n",
       "    <tr>\n",
       "      <th>1</th>\n",
       "      <td>2023-09-16 11:00:00+00:00</td>\n",
       "      <td>29fcaf58-1b6b-4650-8229-ec43e791bf33</td>\n",
       "      <td>True</td>\n",
       "      <td>29fcaf58-1b6b-4650-8229-ec43e791bf33</td>\n",
       "      <td>DO: Reading</td>\n",
       "      <td>Production_Capacity</td>\n",
       "      <td>3</td>\n",
       "    </tr>\n",
       "    <tr>\n",
       "      <th>2</th>\n",
       "      <td>2023-09-15 11:00:00+00:00</td>\n",
       "      <td>29fcaf58-1b6b-4650-8229-ec43e791bf33</td>\n",
       "      <td>False</td>\n",
       "      <td>29fcaf58-1b6b-4650-8229-ec43e791bf33</td>\n",
       "      <td>DO: Reading</td>\n",
       "      <td>Production_Capacity</td>\n",
       "      <td>3</td>\n",
       "    </tr>\n",
       "    <tr>\n",
       "      <th>3</th>\n",
       "      <td>2023-09-14 11:00:00+00:00</td>\n",
       "      <td>29fcaf58-1b6b-4650-8229-ec43e791bf33</td>\n",
       "      <td>False</td>\n",
       "      <td>29fcaf58-1b6b-4650-8229-ec43e791bf33</td>\n",
       "      <td>DO: Reading</td>\n",
       "      <td>Production_Capacity</td>\n",
       "      <td>3</td>\n",
       "    </tr>\n",
       "    <tr>\n",
       "      <th>4</th>\n",
       "      <td>2023-09-13 11:00:00+00:00</td>\n",
       "      <td>29fcaf58-1b6b-4650-8229-ec43e791bf33</td>\n",
       "      <td>True</td>\n",
       "      <td>29fcaf58-1b6b-4650-8229-ec43e791bf33</td>\n",
       "      <td>DO: Reading</td>\n",
       "      <td>Production_Capacity</td>\n",
       "      <td>3</td>\n",
       "    </tr>\n",
       "  </tbody>\n",
       "</table>\n",
       "</div>"
      ],
      "text/plain": [
       "               created_time                                ref_id  \\\n",
       "0 2023-09-17 11:00:00+00:00  29fcaf58-1b6b-4650-8229-ec43e791bf33   \n",
       "1 2023-09-16 11:00:00+00:00  29fcaf58-1b6b-4650-8229-ec43e791bf33   \n",
       "2 2023-09-15 11:00:00+00:00  29fcaf58-1b6b-4650-8229-ec43e791bf33   \n",
       "3 2023-09-14 11:00:00+00:00  29fcaf58-1b6b-4650-8229-ec43e791bf33   \n",
       "4 2023-09-13 11:00:00+00:00  29fcaf58-1b6b-4650-8229-ec43e791bf33   \n",
       "\n",
       "   properties.Yes.checkbox                                    id     activity  \\\n",
       "0                    False  29fcaf58-1b6b-4650-8229-ec43e791bf33  DO: Reading   \n",
       "1                     True  29fcaf58-1b6b-4650-8229-ec43e791bf33  DO: Reading   \n",
       "2                    False  29fcaf58-1b6b-4650-8229-ec43e791bf33  DO: Reading   \n",
       "3                    False  29fcaf58-1b6b-4650-8229-ec43e791bf33  DO: Reading   \n",
       "4                     True  29fcaf58-1b6b-4650-8229-ec43e791bf33  DO: Reading   \n",
       "\n",
       "  properties.P_PC.select.name  properties.difficulty1-5.number  \n",
       "0         Production_Capacity                                3  \n",
       "1         Production_Capacity                                3  \n",
       "2         Production_Capacity                                3  \n",
       "3         Production_Capacity                                3  \n",
       "4         Production_Capacity                                3  "
      ]
     },
     "execution_count": 187,
     "metadata": {},
     "output_type": "execute_result"
    }
   ],
   "source": [
    "df_all.head()"
   ]
  },
  {
   "cell_type": "code",
   "execution_count": 189,
   "metadata": {},
   "outputs": [
    {
     "data": {
      "text/plain": [
       "activity\n",
       "DO: Meditation                   8\n",
       "DO: Wake Early                  10\n",
       "DO: Writing/Reflecting          11\n",
       "DONT: Stay up late (11Pm)       18\n",
       "DO: Reading                     22\n",
       "DO: Cleaning up living space    24\n",
       "DO: Running/Biking              29\n",
       "DONT: Leave a mess              39\n",
       "DONT: Binge Playing Games       47\n",
       "DONT: Binge Watching TVs        48\n",
       "Name: properties.Yes.checkbox, dtype: int64"
      ]
     },
     "execution_count": 189,
     "metadata": {},
     "output_type": "execute_result"
    }
   ],
   "source": [
    "df_all.groupby('activity')['properties.Yes.checkbox'].sum().sort_values()"
   ]
  },
  {
   "cell_type": "code",
   "execution_count": null,
   "metadata": {},
   "outputs": [],
   "source": []
  }
 ],
 "metadata": {
  "kernelspec": {
   "display_name": ".venv",
   "language": "python",
   "name": "python3"
  },
  "language_info": {
   "codemirror_mode": {
    "name": "ipython",
    "version": 3
   },
   "file_extension": ".py",
   "mimetype": "text/x-python",
   "name": "python",
   "nbconvert_exporter": "python",
   "pygments_lexer": "ipython3",
   "version": "3.9.5"
  },
  "orig_nbformat": 4
 },
 "nbformat": 4,
 "nbformat_minor": 2
}
